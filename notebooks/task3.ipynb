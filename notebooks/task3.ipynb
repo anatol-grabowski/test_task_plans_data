{
 "cells": [
  {
   "cell_type": "markdown",
   "metadata": {},
   "source": [
    "# Задание 3.  \n",
    "В пакете для третьего задания три файла:\n",
    "\n",
    "В файле **Tariff_plans_change.csv** содержатся выборочные данные о транзакциях, связанных с подключениями и отключениями тарифных планов абонентами, которые меняли тарифные планы в первом полугодии 2017 года: \n",
    "- SUBSCRIBER_ID\t -  условный идентификатор абонента\n",
    "- TARIFF_PLAN_ID – условный идентификатор тарифного плана\t\n",
    "- START_DTTM\t - дата и время подключения плана\n",
    "- END_DTTM – дата и время отключения (значение $null$ означает, что план актуален на текущий момент).\n",
    "\n",
    "В файле **Charges.csv** содержатся помесячные исторические данные об общих расходах абонентов на мобильную связь и потреблении интернет-трафика:\n",
    "- SUBSCRIBER_ID\t -  условный идентификатор абонента\n",
    "- BILL_MONTH – биллинговый период в формате YYYY-MM-01 (например, строки со значением ‘2016-01-01’ содержат данные о расходах и потреблении за январь 2016 года)\n",
    "- CHARGES – общая сумма  счета за услуги связи\n",
    "\n",
    "В файле **Suspended.csv** содержатся исторические данные о блокировках абонентов в транзакционной форме:\n",
    "- SUBSCRIBER_ID\t -  условный идентификатор абонента\n",
    "- START_DT - дата начала блокировки\n",
    "- END_DT – дата окончания блокировки (значение $null$ означает, что абонент остается блокированным на текущий момент).\n",
    "\n",
    "\n",
    "Необходимо исследовать следующие вопросы:\n",
    " 1. Направления смен тарифных планов: с каких тарифных планов и на какие шли  наибольшие перетоки? Визуализировать потоки миграций на диаграмме. \n",
    " 2. Насколько изменился среднемесячный счет абонентов за период 3 месяца после месяца смены тарифного плана в сравнении с периодом 3 месяца до месяца смены тарифного плана. Какие направления смен тарифных планов характеризовались ростом среднего счета в трехмесячном периоде, а какие – сокращением.  Визуализировать результаты на диаграммах.\n",
    " 3. Аналогично п.2, только относительно изменения уровня блокировок: насколько реже или чаще стали попадать в блокировки абоненты после миграции в целом и для каждого направления миграции в отдельности. Для сравнения использовать те же периоды: 3 месяца до месяца смены плана и 3 месяца после месяца смены."
   ]
  },
  {
   "cell_type": "code",
   "execution_count": 1,
   "metadata": {},
   "outputs": [
    {
     "name": "stdout",
     "output_type": "stream",
     "text": [
      "Populating the interactive namespace from numpy and matplotlib\n"
     ]
    }
   ],
   "source": [
    "import numpy as np\n",
    "import pandas as pd\n",
    "import matplotlib.pyplot as plt\n",
    "from IPython.display import display, Image, HTML\n",
    "import numba\n",
    "import seaborn as sns\n",
    "\n",
    "%pylab inline\n",
    "pylab.rcParams['figure.figsize'] = (18, 5)\n",
    "pd.set_option('display.max_rows', 5)"
   ]
  },
  {
   "cell_type": "markdown",
   "metadata": {},
   "source": [
    "## GET DATA"
   ]
  },
  {
   "cell_type": "markdown",
   "metadata": {},
   "source": [
    "## Charges.csv"
   ]
  },
  {
   "cell_type": "code",
   "execution_count": 3,
   "metadata": {
    "scrolled": false
   },
   "outputs": [
    {
     "data": {
      "text/html": [
       "<div>\n",
       "<style scoped>\n",
       "    .dataframe tbody tr th:only-of-type {\n",
       "        vertical-align: middle;\n",
       "    }\n",
       "\n",
       "    .dataframe tbody tr th {\n",
       "        vertical-align: top;\n",
       "    }\n",
       "\n",
       "    .dataframe thead th {\n",
       "        text-align: right;\n",
       "    }\n",
       "</style>\n",
       "<table border=\"1\" class=\"dataframe\">\n",
       "  <thead>\n",
       "    <tr style=\"text-align: right;\">\n",
       "      <th>charges</th>\n",
       "      <th>SUBSCRIBER_ID</th>\n",
       "      <th>BILL_MONTH</th>\n",
       "      <th>CHARGES</th>\n",
       "    </tr>\n",
       "  </thead>\n",
       "  <tbody>\n",
       "    <tr>\n",
       "      <th>0</th>\n",
       "      <td>4741</td>\n",
       "      <td>2017-03-01</td>\n",
       "      <td>4.572</td>\n",
       "    </tr>\n",
       "    <tr>\n",
       "      <th>1</th>\n",
       "      <td>1754</td>\n",
       "      <td>2017-05-01</td>\n",
       "      <td>4.894</td>\n",
       "    </tr>\n",
       "    <tr>\n",
       "      <th>...</th>\n",
       "      <td>...</td>\n",
       "      <td>...</td>\n",
       "      <td>...</td>\n",
       "    </tr>\n",
       "    <tr>\n",
       "      <th>112593</th>\n",
       "      <td>4747</td>\n",
       "      <td>2017-06-01</td>\n",
       "      <td>5.182</td>\n",
       "    </tr>\n",
       "    <tr>\n",
       "      <th>112594</th>\n",
       "      <td>4992</td>\n",
       "      <td>2017-09-01</td>\n",
       "      <td>6.424</td>\n",
       "    </tr>\n",
       "  </tbody>\n",
       "</table>\n",
       "<p>112595 rows × 3 columns</p>\n",
       "</div>"
      ],
      "text/plain": [
       "charges  SUBSCRIBER_ID BILL_MONTH  CHARGES\n",
       "0                 4741 2017-03-01    4.572\n",
       "1                 1754 2017-05-01    4.894\n",
       "...                ...        ...      ...\n",
       "112593            4747 2017-06-01    5.182\n",
       "112594            4992 2017-09-01    6.424\n",
       "\n",
       "[112595 rows x 3 columns]"
      ]
     },
     "metadata": {},
     "output_type": "display_data"
    },
    {
     "name": "stdout",
     "output_type": "stream",
     "text": [
      "unique subscribers #: 5989\n",
      "period: 2016-06-01 00:00:00 .. 2017-12-01 00:00:00\n"
     ]
    }
   ],
   "source": [
    "charges = pd.read_csv('../inputs/Задание_3/Charges.csv', parse_dates=['BILL_MONTH'])\n",
    "charges.columns.name = 'charges'\n",
    "charges.drop_duplicates(inplace=True)\n",
    "display(charges)\n",
    "print('unique subscribers #:', len(charges['SUBSCRIBER_ID'].unique()))\n",
    "print('period:', charges['BILL_MONTH'].min(), '..', charges['BILL_MONTH'].max())"
   ]
  },
  {
   "cell_type": "markdown",
   "metadata": {},
   "source": [
    "## Tariff_plans_change.csv"
   ]
  },
  {
   "cell_type": "code",
   "execution_count": 4,
   "metadata": {},
   "outputs": [
    {
     "data": {
      "text/html": [
       "<div>\n",
       "<style scoped>\n",
       "    .dataframe tbody tr th:only-of-type {\n",
       "        vertical-align: middle;\n",
       "    }\n",
       "\n",
       "    .dataframe tbody tr th {\n",
       "        vertical-align: top;\n",
       "    }\n",
       "\n",
       "    .dataframe thead th {\n",
       "        text-align: right;\n",
       "    }\n",
       "</style>\n",
       "<table border=\"1\" class=\"dataframe\">\n",
       "  <thead>\n",
       "    <tr style=\"text-align: right;\">\n",
       "      <th>plan_changes</th>\n",
       "      <th>SUBSCRIBER_ID</th>\n",
       "      <th>TARIFF_PLAN_ID</th>\n",
       "      <th>START_DTTM</th>\n",
       "      <th>END_DTTM</th>\n",
       "    </tr>\n",
       "  </thead>\n",
       "  <tbody>\n",
       "    <tr>\n",
       "      <th>0</th>\n",
       "      <td>1</td>\n",
       "      <td>2</td>\n",
       "      <td>2013-11-22 21:10:08</td>\n",
       "      <td>2017-03-11 14:24:17</td>\n",
       "    </tr>\n",
       "    <tr>\n",
       "      <th>1</th>\n",
       "      <td>1</td>\n",
       "      <td>3</td>\n",
       "      <td>2017-03-11 14:24:18</td>\n",
       "      <td>NaT</td>\n",
       "    </tr>\n",
       "    <tr>\n",
       "      <th>...</th>\n",
       "      <td>...</td>\n",
       "      <td>...</td>\n",
       "      <td>...</td>\n",
       "      <td>...</td>\n",
       "    </tr>\n",
       "    <tr>\n",
       "      <th>12342</th>\n",
       "      <td>5989</td>\n",
       "      <td>5</td>\n",
       "      <td>2017-05-24 14:46:11</td>\n",
       "      <td>2017-05-25 20:12:32</td>\n",
       "    </tr>\n",
       "    <tr>\n",
       "      <th>12343</th>\n",
       "      <td>5989</td>\n",
       "      <td>1</td>\n",
       "      <td>2017-05-25 20:12:33</td>\n",
       "      <td>NaT</td>\n",
       "    </tr>\n",
       "  </tbody>\n",
       "</table>\n",
       "<p>12287 rows × 4 columns</p>\n",
       "</div>"
      ],
      "text/plain": [
       "plan_changes  SUBSCRIBER_ID  TARIFF_PLAN_ID          START_DTTM  \\\n",
       "0                         1               2 2013-11-22 21:10:08   \n",
       "1                         1               3 2017-03-11 14:24:18   \n",
       "...                     ...             ...                 ...   \n",
       "12342                  5989               5 2017-05-24 14:46:11   \n",
       "12343                  5989               1 2017-05-25 20:12:33   \n",
       "\n",
       "plan_changes            END_DTTM  \n",
       "0            2017-03-11 14:24:17  \n",
       "1                            NaT  \n",
       "...                          ...  \n",
       "12342        2017-05-25 20:12:32  \n",
       "12343                        NaT  \n",
       "\n",
       "[12287 rows x 4 columns]"
      ]
     },
     "metadata": {},
     "output_type": "display_data"
    },
    {
     "name": "stdout",
     "output_type": "stream",
     "text": [
      "subscribers never changed plans #: 0\n",
      "subscribers had 2 plans #: 5718\n",
      "subscribers had 3 plans #: 245\n",
      "subscribers had 4 plans #: 21\n",
      "subscribers had > 4 plans #: 5\n",
      "unique plans: [2 3 1 5 4]\n",
      "unique subscribers #: 5989\n",
      "active subscribers #: 5923\n",
      "period: 1999-07-12 12:55:54 .. 2018-01-19 17:51:56\n"
     ]
    }
   ],
   "source": [
    "dttm_parser = lambda x: pd.NaT if x == '$null$' else pd.datetime.strptime(x, '%Y-%m-%d %H:%M:%S')\n",
    "\n",
    "plan_changes = pd.read_csv('../inputs/Задание_3/Tariff_plans_change.csv',\n",
    "                           parse_dates=['START_DTTM', 'END_DTTM'], date_parser=dttm_parser)\n",
    "plan_changes.columns.name = 'plan_changes'\n",
    "plan_changes.drop_duplicates(inplace=True)\n",
    "display(plan_changes)\n",
    "\n",
    "g = plan_changes.groupby(by='SUBSCRIBER_ID').aggregate(len)\n",
    "print('subscribers never changed plans #:', len(g[g['TARIFF_PLAN_ID'] < 2]))\n",
    "print('subscribers had 2 plans #:', len(g[g['TARIFF_PLAN_ID'] == 2]))\n",
    "print('subscribers had 3 plans #:', len(g[g['TARIFF_PLAN_ID'] == 3]))\n",
    "print('subscribers had 4 plans #:', len(g[g['TARIFF_PLAN_ID'] == 4]))\n",
    "print('subscribers had > 4 plans #:', len(g[g['TARIFF_PLAN_ID'] > 4]))\n",
    "\n",
    "print('unique plans:', plan_changes['TARIFF_PLAN_ID'].unique())\n",
    "print('unique subscribers #:', len(plan_changes['SUBSCRIBER_ID'].unique()))\n",
    "print('active subscribers #:', pd.isnull(plan_changes['END_DTTM']).sum())\n",
    "print('period:', plan_changes['START_DTTM'].min(), '..', plan_changes['END_DTTM'].max())"
   ]
  },
  {
   "cell_type": "markdown",
   "metadata": {},
   "source": [
    "## Suspended.csv"
   ]
  },
  {
   "cell_type": "code",
   "execution_count": 5,
   "metadata": {},
   "outputs": [
    {
     "data": {
      "text/html": [
       "<div>\n",
       "<style scoped>\n",
       "    .dataframe tbody tr th:only-of-type {\n",
       "        vertical-align: middle;\n",
       "    }\n",
       "\n",
       "    .dataframe tbody tr th {\n",
       "        vertical-align: top;\n",
       "    }\n",
       "\n",
       "    .dataframe thead th {\n",
       "        text-align: right;\n",
       "    }\n",
       "</style>\n",
       "<table border=\"1\" class=\"dataframe\">\n",
       "  <thead>\n",
       "    <tr style=\"text-align: right;\">\n",
       "      <th>suspensions</th>\n",
       "      <th>SUBSCRIBER_ID</th>\n",
       "      <th>START_DT</th>\n",
       "      <th>END_DT</th>\n",
       "      <th>STATUS</th>\n",
       "      <th>duration</th>\n",
       "    </tr>\n",
       "  </thead>\n",
       "  <tbody>\n",
       "    <tr>\n",
       "      <th>2961</th>\n",
       "      <td>5</td>\n",
       "      <td>2016-07-25</td>\n",
       "      <td>2016-08-14</td>\n",
       "      <td>Suspended</td>\n",
       "      <td>20 days</td>\n",
       "    </tr>\n",
       "    <tr>\n",
       "      <th>2914</th>\n",
       "      <td>5</td>\n",
       "      <td>2016-09-19</td>\n",
       "      <td>2016-09-28</td>\n",
       "      <td>Suspended</td>\n",
       "      <td>9 days</td>\n",
       "    </tr>\n",
       "    <tr>\n",
       "      <th>...</th>\n",
       "      <td>...</td>\n",
       "      <td>...</td>\n",
       "      <td>...</td>\n",
       "      <td>...</td>\n",
       "      <td>...</td>\n",
       "    </tr>\n",
       "    <tr>\n",
       "      <th>3342</th>\n",
       "      <td>5988</td>\n",
       "      <td>2017-09-08</td>\n",
       "      <td>2017-09-08</td>\n",
       "      <td>Suspended</td>\n",
       "      <td>0 days</td>\n",
       "    </tr>\n",
       "    <tr>\n",
       "      <th>3309</th>\n",
       "      <td>5988</td>\n",
       "      <td>2017-09-25</td>\n",
       "      <td>2017-10-08</td>\n",
       "      <td>Suspended</td>\n",
       "      <td>13 days</td>\n",
       "    </tr>\n",
       "  </tbody>\n",
       "</table>\n",
       "<p>4063 rows × 5 columns</p>\n",
       "</div>"
      ],
      "text/plain": [
       "suspensions  SUBSCRIBER_ID   START_DT     END_DT     STATUS duration\n",
       "2961                     5 2016-07-25 2016-08-14  Suspended  20 days\n",
       "2914                     5 2016-09-19 2016-09-28  Suspended   9 days\n",
       "...                    ...        ...        ...        ...      ...\n",
       "3342                  5988 2017-09-08 2017-09-08  Suspended   0 days\n",
       "3309                  5988 2017-09-25 2017-10-08  Suspended  13 days\n",
       "\n",
       "[4063 rows x 5 columns]"
      ]
     },
     "metadata": {},
     "output_type": "display_data"
    },
    {
     "name": "stdout",
     "output_type": "stream",
     "text": [
      "unique subscribers #: 1310\n",
      "suspended subscribers #: 66\n",
      "period: 2016-06-01 00:00:00 .. 2018-01-17 00:00:00\n",
      "status other than suspended rows #: 0\n"
     ]
    }
   ],
   "source": [
    "dt_parser = lambda x: pd.NaT if x == '$null$' else pd.datetime.strptime(x, '%Y-%m-%d')\n",
    "\n",
    "suspensions = pd.read_csv('../inputs/Задание_3/Suspended.csv', \n",
    "                          parse_dates=['START_DT', 'END_DT'], date_parser=dt_parser)\n",
    "suspensions.columns.name = 'suspensions'\n",
    "suspensions.drop_duplicates(inplace=True)\n",
    "suspensions['duration'] = suspensions['END_DT'] - suspensions['START_DT']\n",
    "suspensions.sort_values(by=['SUBSCRIBER_ID', 'START_DT'], inplace=True)\n",
    "display(suspensions)\n",
    "print('unique subscribers #:', len(suspensions['SUBSCRIBER_ID'].unique()))\n",
    "print('suspended subscribers #:', pd.isnull(suspensions['END_DT']).sum())\n",
    "print('period:', suspensions['START_DT'].min(), '..', suspensions['END_DT'].max())\n",
    "print('status other than suspended rows #:', (suspensions['STATUS'] != 'Suspended').sum())"
   ]
  },
  {
   "cell_type": "markdown",
   "metadata": {},
   "source": [
    "## Explore a bit"
   ]
  },
  {
   "cell_type": "code",
   "execution_count": null,
   "metadata": {
    "scrolled": false
   },
   "outputs": [],
   "source": [
    "charges_pivoted = charges.pivot(columns='BILL_MONTH', values='CHARGES', index='SUBSCRIBER_ID')\n",
    "display(charges_pivoted)"
   ]
  },
  {
   "cell_type": "code",
   "execution_count": null,
   "metadata": {
    "scrolled": true
   },
   "outputs": [],
   "source": [
    "mean_charges_per_month = charges_pivoted.mean(axis=0)\n",
    "mean_charges_per_month.plot(ylim=(0, None), color='blue', grid=True)\n",
    "print('mean monthly bill stays pretty much the same, no reason to complicate things by considering trend')"
   ]
  },
  {
   "cell_type": "code",
   "execution_count": null,
   "metadata": {
    "scrolled": true
   },
   "outputs": [],
   "source": [
    "charges_per_subscriber = charges_pivoted.sum(axis=1)\n",
    "display(charges_per_subscriber)"
   ]
  },
  {
   "cell_type": "markdown",
   "metadata": {},
   "source": [
    "# I MIGRATIONS"
   ]
  },
  {
   "cell_type": "markdown",
   "metadata": {},
   "source": [
    "## For each plan find a previous plan if there is one\n",
    "sort then go through each row and check if prev plan is in prev row"
   ]
  },
  {
   "cell_type": "code",
   "execution_count": 6,
   "metadata": {
    "scrolled": false
   },
   "outputs": [
    {
     "data": {
      "text/html": [
       "<div>\n",
       "<style scoped>\n",
       "    .dataframe tbody tr th:only-of-type {\n",
       "        vertical-align: middle;\n",
       "    }\n",
       "\n",
       "    .dataframe tbody tr th {\n",
       "        vertical-align: top;\n",
       "    }\n",
       "\n",
       "    .dataframe thead th {\n",
       "        text-align: right;\n",
       "    }\n",
       "</style>\n",
       "<table border=\"1\" class=\"dataframe\">\n",
       "  <thead>\n",
       "    <tr style=\"text-align: right;\">\n",
       "      <th>plan_changes</th>\n",
       "      <th>SUBSCRIBER_ID</th>\n",
       "      <th>TARIFF_PLAN_ID</th>\n",
       "      <th>START_DTTM</th>\n",
       "      <th>END_DTTM</th>\n",
       "      <th>duration</th>\n",
       "      <th>prev_plan_row</th>\n",
       "      <th>prev_plan</th>\n",
       "      <th>prev_duration</th>\n",
       "      <th>no_plan_duration</th>\n",
       "    </tr>\n",
       "  </thead>\n",
       "  <tbody>\n",
       "    <tr>\n",
       "      <th>0</th>\n",
       "      <td>1</td>\n",
       "      <td>2</td>\n",
       "      <td>2013-11-22 21:10:08</td>\n",
       "      <td>2017-03-11 14:24:17</td>\n",
       "      <td>1204 days 17:14:09</td>\n",
       "      <td>-1</td>\n",
       "      <td>-1</td>\n",
       "      <td>NaT</td>\n",
       "      <td>NaT</td>\n",
       "    </tr>\n",
       "    <tr>\n",
       "      <th>1</th>\n",
       "      <td>1</td>\n",
       "      <td>3</td>\n",
       "      <td>2017-03-11 14:24:18</td>\n",
       "      <td>NaT</td>\n",
       "      <td>NaT</td>\n",
       "      <td>0</td>\n",
       "      <td>2</td>\n",
       "      <td>1204 days 17:14:09</td>\n",
       "      <td>00:00:01</td>\n",
       "    </tr>\n",
       "    <tr>\n",
       "      <th>...</th>\n",
       "      <td>...</td>\n",
       "      <td>...</td>\n",
       "      <td>...</td>\n",
       "      <td>...</td>\n",
       "      <td>...</td>\n",
       "      <td>...</td>\n",
       "      <td>...</td>\n",
       "      <td>...</td>\n",
       "      <td>...</td>\n",
       "    </tr>\n",
       "    <tr>\n",
       "      <th>12342</th>\n",
       "      <td>5989</td>\n",
       "      <td>5</td>\n",
       "      <td>2017-05-24 14:46:11</td>\n",
       "      <td>2017-05-25 20:12:32</td>\n",
       "      <td>1 days 05:26:21</td>\n",
       "      <td>-1</td>\n",
       "      <td>-1</td>\n",
       "      <td>NaT</td>\n",
       "      <td>NaT</td>\n",
       "    </tr>\n",
       "    <tr>\n",
       "      <th>12343</th>\n",
       "      <td>5989</td>\n",
       "      <td>1</td>\n",
       "      <td>2017-05-25 20:12:33</td>\n",
       "      <td>NaT</td>\n",
       "      <td>NaT</td>\n",
       "      <td>12342</td>\n",
       "      <td>5</td>\n",
       "      <td>1 days 05:26:21</td>\n",
       "      <td>00:00:01</td>\n",
       "    </tr>\n",
       "  </tbody>\n",
       "</table>\n",
       "<p>12287 rows × 9 columns</p>\n",
       "</div>"
      ],
      "text/plain": [
       "plan_changes  SUBSCRIBER_ID  TARIFF_PLAN_ID          START_DTTM  \\\n",
       "0                         1               2 2013-11-22 21:10:08   \n",
       "1                         1               3 2017-03-11 14:24:18   \n",
       "...                     ...             ...                 ...   \n",
       "12342                  5989               5 2017-05-24 14:46:11   \n",
       "12343                  5989               1 2017-05-25 20:12:33   \n",
       "\n",
       "plan_changes            END_DTTM           duration  prev_plan_row  prev_plan  \\\n",
       "0            2017-03-11 14:24:17 1204 days 17:14:09             -1         -1   \n",
       "1                            NaT                NaT              0          2   \n",
       "...                          ...                ...            ...        ...   \n",
       "12342        2017-05-25 20:12:32    1 days 05:26:21             -1         -1   \n",
       "12343                        NaT                NaT          12342          5   \n",
       "\n",
       "plan_changes      prev_duration no_plan_duration  \n",
       "0                           NaT              NaT  \n",
       "1            1204 days 17:14:09         00:00:01  \n",
       "...                         ...              ...  \n",
       "12342                       NaT              NaT  \n",
       "12343           1 days 05:26:21         00:00:01  \n",
       "\n",
       "[12287 rows x 9 columns]"
      ]
     },
     "metadata": {},
     "output_type": "display_data"
    },
    {
     "name": "stdout",
     "output_type": "stream",
     "text": [
      "count                      6298\n",
      "mean     0 days 02:18:18.355986\n",
      "                  ...          \n",
      "75%             0 days 00:00:01\n",
      "max           135 days 19:48:11\n",
      "Name: no_plan_duration, Length: 8, dtype: object\n"
     ]
    }
   ],
   "source": [
    "plans = plan_changes.copy()\n",
    "\n",
    "# slow, should have used dataframe shift trick here\n",
    "@numba.jit\n",
    "def find_prev_plans(plan_changes):\n",
    "    p = plan_changes\n",
    "    p.sort_values(by=['SUBSCRIBER_ID', 'START_DTTM'], inplace=True)\n",
    "    p['duration'] = p['END_DTTM'] - p['START_DTTM']\n",
    "    p['prev_plan_row'] = pd.Series(-1, index=p.index, dtype=p.index.dtype)\n",
    "    p['prev_plan'] = pd.Series(index=p.index, dtype=p['TARIFF_PLAN_ID'].dtype)\n",
    "    p['prev_duration'] = pd.Series(pd.NaT, index=p.index, dtype=p['duration'].dtype)\n",
    "    p['no_plan_duration'] = pd.Series(pd.NaT, index=p.index, dtype=p['duration'].dtype)\n",
    "    \n",
    "    prev_subs = None\n",
    "    prev_plan = -1\n",
    "    prev_dur = pd.NaT\n",
    "    prev_end = pd.NaT\n",
    "    for i in p.index:\n",
    "        row = p.loc[i]\n",
    "        subs, plan, dur, start, end = row[['SUBSCRIBER_ID', 'TARIFF_PLAN_ID', 'duration', 'START_DTTM', 'END_DTTM']]\n",
    "        if subs != prev_subs: \n",
    "            prev_subs = subs\n",
    "            prev_plan_row = -1\n",
    "            prev_plan = -1\n",
    "            prev_dur = pd.NaT\n",
    "            prev_end = pd.NaT\n",
    "        p.at[i, 'prev_plan_row'] = prev_plan_row\n",
    "        p.at[i, 'prev_plan'] = prev_plan\n",
    "        p.at[i, 'prev_duration'] = prev_dur\n",
    "        p.at[i, 'no_plan_duration'] = start - prev_end\n",
    "        prev_plan_row = i\n",
    "        prev_plan = plan\n",
    "        prev_dur = dur\n",
    "        prev_end = end\n",
    "\n",
    "\n",
    "find_prev_plans(plans)\n",
    "with pd.option_context('display.max_rows', 5):\n",
    "    display(plans.iloc[:])\n",
    "    print(plans['no_plan_duration'].describe())"
   ]
  },
  {
   "cell_type": "markdown",
   "metadata": {},
   "source": [
    "## Drop some controversial data"
   ]
  },
  {
   "cell_type": "code",
   "execution_count": 7,
   "metadata": {},
   "outputs": [
    {
     "name": "stdout",
     "output_type": "stream",
     "text": [
      "dropped plans #: 13\n",
      "plans after dropping #: 12274\n",
      "same plans #: 12287\n"
     ]
    },
    {
     "data": {
      "text/html": [
       "<div>\n",
       "<style scoped>\n",
       "    .dataframe tbody tr th:only-of-type {\n",
       "        vertical-align: middle;\n",
       "    }\n",
       "\n",
       "    .dataframe tbody tr th {\n",
       "        vertical-align: top;\n",
       "    }\n",
       "\n",
       "    .dataframe thead th {\n",
       "        text-align: right;\n",
       "    }\n",
       "</style>\n",
       "<table border=\"1\" class=\"dataframe\">\n",
       "  <thead>\n",
       "    <tr style=\"text-align: right;\">\n",
       "      <th>plan_changes</th>\n",
       "      <th>SUBSCRIBER_ID</th>\n",
       "      <th>TARIFF_PLAN_ID</th>\n",
       "      <th>START_DTTM</th>\n",
       "      <th>END_DTTM</th>\n",
       "      <th>duration</th>\n",
       "      <th>prev_plan_row</th>\n",
       "      <th>prev_plan</th>\n",
       "      <th>prev_duration</th>\n",
       "      <th>no_plan_duration</th>\n",
       "    </tr>\n",
       "  </thead>\n",
       "  <tbody>\n",
       "    <tr>\n",
       "      <th>92</th>\n",
       "      <td>46</td>\n",
       "      <td>3</td>\n",
       "      <td>2017-02-02 14:24:13</td>\n",
       "      <td>2017-04-13 18:07:58</td>\n",
       "      <td>70 days 03:43:45</td>\n",
       "      <td>91</td>\n",
       "      <td>3</td>\n",
       "      <td>2411 days 05:57:01</td>\n",
       "      <td>1 days 21:57:53</td>\n",
       "    </tr>\n",
       "    <tr>\n",
       "      <th>289</th>\n",
       "      <td>140</td>\n",
       "      <td>5</td>\n",
       "      <td>2017-05-21 12:07:46</td>\n",
       "      <td>NaT</td>\n",
       "      <td>NaT</td>\n",
       "      <td>288</td>\n",
       "      <td>5</td>\n",
       "      <td>55 days 16:05:48</td>\n",
       "      <td>1 days 23:30:16</td>\n",
       "    </tr>\n",
       "    <tr>\n",
       "      <th>387</th>\n",
       "      <td>187</td>\n",
       "      <td>4</td>\n",
       "      <td>2017-05-23 21:18:55</td>\n",
       "      <td>2017-06-09 13:38:02</td>\n",
       "      <td>16 days 16:19:07</td>\n",
       "      <td>386</td>\n",
       "      <td>5</td>\n",
       "      <td>38 days 06:33:22</td>\n",
       "      <td>103 days 02:24:03</td>\n",
       "    </tr>\n",
       "    <tr>\n",
       "      <th>983</th>\n",
       "      <td>475</td>\n",
       "      <td>3</td>\n",
       "      <td>2017-06-01 10:27:43</td>\n",
       "      <td>NaT</td>\n",
       "      <td>NaT</td>\n",
       "      <td>982</td>\n",
       "      <td>5</td>\n",
       "      <td>11 days 05:47:20</td>\n",
       "      <td>135 days 19:48:11</td>\n",
       "    </tr>\n",
       "    <tr>\n",
       "      <th>2486</th>\n",
       "      <td>1209</td>\n",
       "      <td>5</td>\n",
       "      <td>2017-04-01 12:02:41</td>\n",
       "      <td>NaT</td>\n",
       "      <td>NaT</td>\n",
       "      <td>2485</td>\n",
       "      <td>5</td>\n",
       "      <td>29 days 21:34:33</td>\n",
       "      <td>30 days 23:38:40</td>\n",
       "    </tr>\n",
       "    <tr>\n",
       "      <th>...</th>\n",
       "      <td>...</td>\n",
       "      <td>...</td>\n",
       "      <td>...</td>\n",
       "      <td>...</td>\n",
       "      <td>...</td>\n",
       "      <td>...</td>\n",
       "      <td>...</td>\n",
       "      <td>...</td>\n",
       "      <td>...</td>\n",
       "    </tr>\n",
       "    <tr>\n",
       "      <th>9077</th>\n",
       "      <td>4420</td>\n",
       "      <td>5</td>\n",
       "      <td>2017-04-01 15:27:13</td>\n",
       "      <td>NaT</td>\n",
       "      <td>NaT</td>\n",
       "      <td>9076</td>\n",
       "      <td>5</td>\n",
       "      <td>7 days 15:34:46</td>\n",
       "      <td>29 days 00:35:11</td>\n",
       "    </tr>\n",
       "    <tr>\n",
       "      <th>9466</th>\n",
       "      <td>4608</td>\n",
       "      <td>1</td>\n",
       "      <td>2017-05-11 16:09:07</td>\n",
       "      <td>2017-06-02 17:07:39</td>\n",
       "      <td>22 days 00:58:32</td>\n",
       "      <td>9465</td>\n",
       "      <td>3</td>\n",
       "      <td>382 days 21:59:25</td>\n",
       "      <td>55 days 07:36:31</td>\n",
       "    </tr>\n",
       "    <tr>\n",
       "      <th>11496</th>\n",
       "      <td>5591</td>\n",
       "      <td>4</td>\n",
       "      <td>2017-01-02 11:39:43</td>\n",
       "      <td>2017-05-26 09:56:11</td>\n",
       "      <td>143 days 22:16:28</td>\n",
       "      <td>11495</td>\n",
       "      <td>4</td>\n",
       "      <td>265 days 22:00:36</td>\n",
       "      <td>0 days 01:22:43</td>\n",
       "    </tr>\n",
       "    <tr>\n",
       "      <th>11576</th>\n",
       "      <td>5630</td>\n",
       "      <td>3</td>\n",
       "      <td>2017-04-01 21:49:58</td>\n",
       "      <td>NaT</td>\n",
       "      <td>NaT</td>\n",
       "      <td>11575</td>\n",
       "      <td>3</td>\n",
       "      <td>19 days 18:40:34</td>\n",
       "      <td>45 days 07:12:51</td>\n",
       "    </tr>\n",
       "    <tr>\n",
       "      <th>12218</th>\n",
       "      <td>5929</td>\n",
       "      <td>5</td>\n",
       "      <td>2017-06-04 10:19:27</td>\n",
       "      <td>NaT</td>\n",
       "      <td>NaT</td>\n",
       "      <td>12216</td>\n",
       "      <td>5</td>\n",
       "      <td>25 days 20:53:15</td>\n",
       "      <td>4 days 18:39:40</td>\n",
       "    </tr>\n",
       "  </tbody>\n",
       "</table>\n",
       "<p>13 rows × 9 columns</p>\n",
       "</div>"
      ],
      "text/plain": [
       "plan_changes  SUBSCRIBER_ID  TARIFF_PLAN_ID          START_DTTM  \\\n",
       "92                       46               3 2017-02-02 14:24:13   \n",
       "289                     140               5 2017-05-21 12:07:46   \n",
       "387                     187               4 2017-05-23 21:18:55   \n",
       "983                     475               3 2017-06-01 10:27:43   \n",
       "2486                   1209               5 2017-04-01 12:02:41   \n",
       "...                     ...             ...                 ...   \n",
       "9077                   4420               5 2017-04-01 15:27:13   \n",
       "9466                   4608               1 2017-05-11 16:09:07   \n",
       "11496                  5591               4 2017-01-02 11:39:43   \n",
       "11576                  5630               3 2017-04-01 21:49:58   \n",
       "12218                  5929               5 2017-06-04 10:19:27   \n",
       "\n",
       "plan_changes            END_DTTM          duration  prev_plan_row  prev_plan  \\\n",
       "92           2017-04-13 18:07:58  70 days 03:43:45             91          3   \n",
       "289                          NaT               NaT            288          5   \n",
       "387          2017-06-09 13:38:02  16 days 16:19:07            386          5   \n",
       "983                          NaT               NaT            982          5   \n",
       "2486                         NaT               NaT           2485          5   \n",
       "...                          ...               ...            ...        ...   \n",
       "9077                         NaT               NaT           9076          5   \n",
       "9466         2017-06-02 17:07:39  22 days 00:58:32           9465          3   \n",
       "11496        2017-05-26 09:56:11 143 days 22:16:28          11495          4   \n",
       "11576                        NaT               NaT          11575          3   \n",
       "12218                        NaT               NaT          12216          5   \n",
       "\n",
       "plan_changes      prev_duration  no_plan_duration  \n",
       "92           2411 days 05:57:01   1 days 21:57:53  \n",
       "289            55 days 16:05:48   1 days 23:30:16  \n",
       "387            38 days 06:33:22 103 days 02:24:03  \n",
       "983            11 days 05:47:20 135 days 19:48:11  \n",
       "2486           29 days 21:34:33  30 days 23:38:40  \n",
       "...                         ...               ...  \n",
       "9077            7 days 15:34:46  29 days 00:35:11  \n",
       "9466          382 days 21:59:25  55 days 07:36:31  \n",
       "11496         265 days 22:00:36   0 days 01:22:43  \n",
       "11576          19 days 18:40:34  45 days 07:12:51  \n",
       "12218          25 days 20:53:15   4 days 18:39:40  \n",
       "\n",
       "[13 rows x 9 columns]"
      ]
     },
     "metadata": {},
     "output_type": "display_data"
    }
   ],
   "source": [
    "# not sure if a change after a long delay should still be considered a change\n",
    "no_plan_long_duration = pd.Timedelta(30, 'D')\n",
    "long_plans = plans['no_plan_duration'] > no_plan_long_duration\n",
    "same_plans = plans['TARIFF_PLAN_ID'] == plans['prev_plan'] # easier to drop than stitch together\n",
    "plans_to_drop = plans[long_plans | same_plans]\n",
    "ps = plans.drop(index=plans_to_drop.index)\n",
    "\n",
    "with pd.option_context('display.max_rows', 10):\n",
    "    print('dropped plans #:', len(plans_to_drop))\n",
    "    print('plans after dropping #:', len(ps))\n",
    "    print('same plans #:', len(same_plans))\n",
    "    display(plans_to_drop)"
   ]
  },
  {
   "cell_type": "markdown",
   "metadata": {},
   "source": [
    "## Explore a bit, find how much time each subscriber spent on each plan"
   ]
  },
  {
   "cell_type": "code",
   "execution_count": 8,
   "metadata": {
    "scrolled": false
   },
   "outputs": [
    {
     "data": {
      "text/html": [
       "<div>\n",
       "<style scoped>\n",
       "    .dataframe tbody tr th:only-of-type {\n",
       "        vertical-align: middle;\n",
       "    }\n",
       "\n",
       "    .dataframe tbody tr th {\n",
       "        vertical-align: top;\n",
       "    }\n",
       "\n",
       "    .dataframe thead th {\n",
       "        text-align: right;\n",
       "    }\n",
       "</style>\n",
       "<table border=\"1\" class=\"dataframe\">\n",
       "  <thead>\n",
       "    <tr style=\"text-align: right;\">\n",
       "      <th>TARIFF_PLAN_ID</th>\n",
       "      <th>1</th>\n",
       "      <th>2</th>\n",
       "      <th>3</th>\n",
       "      <th>4</th>\n",
       "      <th>5</th>\n",
       "    </tr>\n",
       "    <tr>\n",
       "      <th>SUBSCRIBER_ID</th>\n",
       "      <th></th>\n",
       "      <th></th>\n",
       "      <th></th>\n",
       "      <th></th>\n",
       "      <th></th>\n",
       "    </tr>\n",
       "  </thead>\n",
       "  <tbody>\n",
       "    <tr>\n",
       "      <th>1</th>\n",
       "      <td>NaT</td>\n",
       "      <td>1204 days 17:14:09</td>\n",
       "      <td>0 days 00:00:00</td>\n",
       "      <td>NaT</td>\n",
       "      <td>NaT</td>\n",
       "    </tr>\n",
       "    <tr>\n",
       "      <th>2</th>\n",
       "      <td>509 days 20:03:24</td>\n",
       "      <td>NaT</td>\n",
       "      <td>NaT</td>\n",
       "      <td>NaT</td>\n",
       "      <td>0 days 00:00:00</td>\n",
       "    </tr>\n",
       "    <tr>\n",
       "      <th>3</th>\n",
       "      <td>708 days 16:43:13</td>\n",
       "      <td>NaT</td>\n",
       "      <td>NaT</td>\n",
       "      <td>NaT</td>\n",
       "      <td>0 days 00:00:00</td>\n",
       "    </tr>\n",
       "    <tr>\n",
       "      <th>4</th>\n",
       "      <td>NaT</td>\n",
       "      <td>NaT</td>\n",
       "      <td>347 days 20:23:59</td>\n",
       "      <td>NaT</td>\n",
       "      <td>0 days 00:00:00</td>\n",
       "    </tr>\n",
       "    <tr>\n",
       "      <th>5</th>\n",
       "      <td>457 days 04:32:44</td>\n",
       "      <td>NaT</td>\n",
       "      <td>NaT</td>\n",
       "      <td>NaT</td>\n",
       "      <td>0 days 00:00:00</td>\n",
       "    </tr>\n",
       "    <tr>\n",
       "      <th>...</th>\n",
       "      <td>...</td>\n",
       "      <td>...</td>\n",
       "      <td>...</td>\n",
       "      <td>...</td>\n",
       "      <td>...</td>\n",
       "    </tr>\n",
       "    <tr>\n",
       "      <th>5985</th>\n",
       "      <td>NaT</td>\n",
       "      <td>NaT</td>\n",
       "      <td>NaT</td>\n",
       "      <td>64 days 00:59:13</td>\n",
       "      <td>0 days 00:00:00</td>\n",
       "    </tr>\n",
       "    <tr>\n",
       "      <th>5986</th>\n",
       "      <td>0 days 00:00:00</td>\n",
       "      <td>NaT</td>\n",
       "      <td>NaT</td>\n",
       "      <td>NaT</td>\n",
       "      <td>57 days 06:16:30</td>\n",
       "    </tr>\n",
       "    <tr>\n",
       "      <th>5987</th>\n",
       "      <td>NaT</td>\n",
       "      <td>NaT</td>\n",
       "      <td>0 days 00:00:00</td>\n",
       "      <td>NaT</td>\n",
       "      <td>14 days 19:40:35</td>\n",
       "    </tr>\n",
       "    <tr>\n",
       "      <th>5988</th>\n",
       "      <td>12 days 06:00:02</td>\n",
       "      <td>NaT</td>\n",
       "      <td>NaT</td>\n",
       "      <td>0 days 00:00:00</td>\n",
       "      <td>NaT</td>\n",
       "    </tr>\n",
       "    <tr>\n",
       "      <th>5989</th>\n",
       "      <td>0 days 00:00:00</td>\n",
       "      <td>NaT</td>\n",
       "      <td>NaT</td>\n",
       "      <td>NaT</td>\n",
       "      <td>1 days 05:26:21</td>\n",
       "    </tr>\n",
       "  </tbody>\n",
       "</table>\n",
       "<p>5989 rows × 5 columns</p>\n",
       "</div>"
      ],
      "text/plain": [
       "TARIFF_PLAN_ID                 1                  2                 3  \\\n",
       "SUBSCRIBER_ID                                                           \n",
       "1                            NaT 1204 days 17:14:09   0 days 00:00:00   \n",
       "2              509 days 20:03:24                NaT               NaT   \n",
       "3              708 days 16:43:13                NaT               NaT   \n",
       "4                            NaT                NaT 347 days 20:23:59   \n",
       "5              457 days 04:32:44                NaT               NaT   \n",
       "...                          ...                ...               ...   \n",
       "5985                         NaT                NaT               NaT   \n",
       "5986             0 days 00:00:00                NaT               NaT   \n",
       "5987                         NaT                NaT   0 days 00:00:00   \n",
       "5988            12 days 06:00:02                NaT               NaT   \n",
       "5989             0 days 00:00:00                NaT               NaT   \n",
       "\n",
       "TARIFF_PLAN_ID                4                5  \n",
       "SUBSCRIBER_ID                                     \n",
       "1                           NaT              NaT  \n",
       "2                           NaT  0 days 00:00:00  \n",
       "3                           NaT  0 days 00:00:00  \n",
       "4                           NaT  0 days 00:00:00  \n",
       "5                           NaT  0 days 00:00:00  \n",
       "...                         ...              ...  \n",
       "5985           64 days 00:59:13  0 days 00:00:00  \n",
       "5986                        NaT 57 days 06:16:30  \n",
       "5987                        NaT 14 days 19:40:35  \n",
       "5988            0 days 00:00:00              NaT  \n",
       "5989                        NaT  1 days 05:26:21  \n",
       "\n",
       "[5989 rows x 5 columns]"
      ]
     },
     "metadata": {},
     "output_type": "display_data"
    }
   ],
   "source": [
    "def dur_aggfunc(series):\n",
    "    return np.sum(series) #if series.count() else pd.NaT\n",
    "\n",
    "plans_pivoted = ps.pivot_table(columns='TARIFF_PLAN_ID', index='SUBSCRIBER_ID', values='duration',\n",
    "                                  aggfunc=dur_aggfunc)\n",
    "with pd.option_context('display.max_rows', 10):\n",
    "    display(plans_pivoted)"
   ]
  },
  {
   "cell_type": "markdown",
   "metadata": {},
   "source": [
    "## Get migrations flow data, save it to json to display on the interactive html+js diagram"
   ]
  },
  {
   "cell_type": "code",
   "execution_count": 10,
   "metadata": {
    "scrolled": false
   },
   "outputs": [
    {
     "name": "stdout",
     "output_type": "stream",
     "text": [
      "total migrations # 12274\n"
     ]
    },
    {
     "data": {
      "text/html": [
       "<div>\n",
       "<style scoped>\n",
       "    .dataframe tbody tr th:only-of-type {\n",
       "        vertical-align: middle;\n",
       "    }\n",
       "\n",
       "    .dataframe tbody tr th {\n",
       "        vertical-align: top;\n",
       "    }\n",
       "\n",
       "    .dataframe thead th {\n",
       "        text-align: right;\n",
       "    }\n",
       "</style>\n",
       "<table border=\"1\" class=\"dataframe\">\n",
       "  <thead>\n",
       "    <tr style=\"text-align: right;\">\n",
       "      <th>TARIFF_PLAN_ID</th>\n",
       "      <th>to 1</th>\n",
       "      <th>to 2</th>\n",
       "      <th>to 3</th>\n",
       "      <th>to 4</th>\n",
       "      <th>to 5</th>\n",
       "    </tr>\n",
       "    <tr>\n",
       "      <th>prev_plan</th>\n",
       "      <th></th>\n",
       "      <th></th>\n",
       "      <th></th>\n",
       "      <th></th>\n",
       "      <th></th>\n",
       "    </tr>\n",
       "  </thead>\n",
       "  <tbody>\n",
       "    <tr>\n",
       "      <th>no plan</th>\n",
       "      <td>2021.0</td>\n",
       "      <td>604.0</td>\n",
       "      <td>2745.0</td>\n",
       "      <td>528.0</td>\n",
       "      <td>91.0</td>\n",
       "    </tr>\n",
       "    <tr>\n",
       "      <th>from 1</th>\n",
       "      <td>NaN</td>\n",
       "      <td>5.0</td>\n",
       "      <td>55.0</td>\n",
       "      <td>378.0</td>\n",
       "      <td>1613.0</td>\n",
       "    </tr>\n",
       "    <tr>\n",
       "      <th>from 2</th>\n",
       "      <td>13.0</td>\n",
       "      <td>NaN</td>\n",
       "      <td>20.0</td>\n",
       "      <td>158.0</td>\n",
       "      <td>417.0</td>\n",
       "    </tr>\n",
       "    <tr>\n",
       "      <th>from 3</th>\n",
       "      <td>27.0</td>\n",
       "      <td>12.0</td>\n",
       "      <td>NaN</td>\n",
       "      <td>367.0</td>\n",
       "      <td>2372.0</td>\n",
       "    </tr>\n",
       "    <tr>\n",
       "      <th>from 4</th>\n",
       "      <td>37.0</td>\n",
       "      <td>20.0</td>\n",
       "      <td>56.0</td>\n",
       "      <td>NaN</td>\n",
       "      <td>528.0</td>\n",
       "    </tr>\n",
       "    <tr>\n",
       "      <th>from 5</th>\n",
       "      <td>81.0</td>\n",
       "      <td>4.0</td>\n",
       "      <td>74.0</td>\n",
       "      <td>48.0</td>\n",
       "      <td>NaN</td>\n",
       "    </tr>\n",
       "  </tbody>\n",
       "</table>\n",
       "</div>"
      ],
      "text/plain": [
       "TARIFF_PLAN_ID    to 1   to 2    to 3   to 4    to 5\n",
       "prev_plan                                           \n",
       "no plan         2021.0  604.0  2745.0  528.0    91.0\n",
       "from 1             NaN    5.0    55.0  378.0  1613.0\n",
       "from 2            13.0    NaN    20.0  158.0   417.0\n",
       "from 3            27.0   12.0     NaN  367.0  2372.0\n",
       "from 4            37.0   20.0    56.0    NaN   528.0\n",
       "from 5            81.0    4.0    74.0   48.0     NaN"
      ]
     },
     "metadata": {},
     "output_type": "display_data"
    },
    {
     "name": "stdout",
     "output_type": "stream",
     "text": [
      "{\"to 1\":{\"no plan\":2021.0,\"from 1\":null,\"from 2\":13.0,\"from 3\":27.0,\"from 4\":37.0,\"from 5\":81.0},\"to 2\":{\"no plan\":604.0,\"from 1\":5.0,\"from 2\":null,\"from 3\":12.0,\"from 4\":20.0,\"from 5\":4.0},\"to 3\":{\"no plan\":2745.0,\"from 1\":55.0,\"from 2\":20.0,\"from 3\":null,\"from 4\":56.0,\"from 5\":74.0},\"to 4\":{\"no plan\":528.0,\"from 1\":378.0,\"from 2\":158.0,\"from 3\":367.0,\"from 4\":null,\"from 5\":48.0},\"to 5\":{\"no plan\":91.0,\"from 1\":1613.0,\"from 2\":417.0,\"from 3\":2372.0,\"from 4\":528.0,\"from 5\":null}}\n"
     ]
    }
   ],
   "source": [
    "migrations = ps.pivot_table(index='prev_plan', columns='TARIFF_PLAN_ID', values='duration', aggfunc=len)\n",
    "\n",
    "migrations.rename(columns=lambda col: 'to ' + str(col), inplace=True)\n",
    "migrations.rename(index=lambda row: 'from ' + str(row) if row != -1 else 'no plan', inplace=True)\n",
    "with pd.option_context('display.max_rows', 10):\n",
    "    print('total migrations #', len(ps))\n",
    "    display(migrations)\n",
    "print(migrations.to_json(orient='columns'))\n",
    "migrations.to_json('../outputs/migrations.json')"
   ]
  },
  {
   "cell_type": "markdown",
   "metadata": {},
   "source": [
    "## Interactive migration diagram\n",
    "*\\* Jupyter notebook has to be running locally for the diagram to appear*\n",
    "\n",
    "New subscribers mostly come to plans 1..4 then migrate to plan 5 (sometimes through plan 4) and never look back :)"
   ]
  },
  {
   "cell_type": "code",
   "execution_count": 18,
   "metadata": {
    "scrolled": false
   },
   "outputs": [
    {
     "data": {
      "text/html": [
       "<head>\n",
       "  <meta charset=\"UTF-8\">\n",
       "  <meta name=\"viewport\" content=\"width=1024\">\n",
       "  <link rel=\"stylesheet\" href=\"../migrations-flow/dist/index.css\">\n",
       "</head>\n",
       "<body>\n",
       "  <div id=\"chart\"></div>\n",
       "<script type=\"text/javascript\" src=\"../migrations-flow/dist/bundle.js?6b72660c866613bfd01d\"></script></body>"
      ],
      "text/plain": [
       "<IPython.core.display.HTML object>"
      ]
     },
     "metadata": {},
     "output_type": "display_data"
    }
   ],
   "source": [
    "display(HTML(filename='../migrations-flow/dist/index.html'))"
   ]
  },
  {
   "cell_type": "markdown",
   "metadata": {},
   "source": [
    "## Screenshot of the diagram that has to be above"
   ]
  },
  {
   "cell_type": "code",
   "execution_count": 15,
   "metadata": {},
   "outputs": [
    {
     "data": {
      "image/png": "[encoded data removed]",
      "text/plain": [
       "<IPython.core.display.Image object>"
      ]
     },
     "metadata": {},
     "output_type": "display_data"
    }
   ],
   "source": [
    "display(Image(filename='../outputs/migrations-all-time.png'))"
   ]
  },
  {
   "cell_type": "markdown",
   "metadata": {},
   "source": [
    "# II CHARGES"
   ]
  },
  {
   "cell_type": "markdown",
   "metadata": {},
   "source": [
    "## Sort values just to keep them pretty :)"
   ]
  },
  {
   "cell_type": "code",
   "execution_count": null,
   "metadata": {
    "scrolled": false
   },
   "outputs": [],
   "source": [
    "chs = charges.sort_values(by=['SUBSCRIBER_ID', 'BILL_MONTH']).set_index(['SUBSCRIBER_ID'])\n",
    "\n",
    "with pd.option_context('display.max_rows', 14):\n",
    "    display(chs.head(25))"
   ]
  },
  {
   "cell_type": "markdown",
   "metadata": {},
   "source": [
    "## Calculate mean bill in the beginning and end of each plan\n",
    "ignore plans that dont have enough months with billing data"
   ]
  },
  {
   "cell_type": "code",
   "execution_count": null,
   "metadata": {
    "scrolled": false
   },
   "outputs": [],
   "source": [
    "from pandas.tseries.offsets import MonthBegin, MonthEnd\n",
    "\n",
    "plans_with_charges = ps.iloc[:].copy()\n",
    "plans_max_end = plans_with_charges['END_DTTM'].max()\n",
    "plans_with_charges.loc[pd.isnull(plans_with_charges['END_DTTM']), 'END_DTTM'] = plans_max_end\n",
    "plans_with_charges['START_DTTM'] = (plans_with_charges['START_DTTM'] + MonthBegin(1)).dt.floor('D')\n",
    "plans_with_charges['END_DTTM'] = (plans_with_charges['END_DTTM'] + MonthBegin(-1)).dt.floor('D')\n",
    "\n",
    "# @numba.jit\n",
    "def calc_charges_per_plan(plans, charges):\n",
    "    periods = 3\n",
    "    plans['charged'] = pd.Series(index=plans.index, dtype=charges['CHARGES'].dtype)\n",
    "    plans['ch_beg3'] = pd.Series(index=plans.index, dtype=charges['CHARGES'].dtype)\n",
    "    plans['ch_end3'] = pd.Series(index=plans.index, dtype=charges['CHARGES'].dtype)\n",
    "    plans['full_months_with_charging_info'] = pd.Series(index=plans.index, dtype=int)\n",
    "    for row in plans.itertuples():\n",
    "        index, subs, plan, start, end, *_ = row\n",
    "        all_chs = charges.loc[subs]\n",
    "        chs = all_chs[(all_chs['BILL_MONTH'] >= start) & (all_chs['BILL_MONTH'] < end)]\n",
    "        end3_start = end + MonthBegin(-periods)\n",
    "        beg3_end = start + MonthBegin(periods)\n",
    "        ch_beg3 = chs[chs['BILL_MONTH'] < beg3_end]\n",
    "        ch_end3 = chs[chs['BILL_MONTH'] >= end3_start]\n",
    "#         print('xxx', subs, plan, start, beg3_end, end3_start, end, len(ch_beg3), len(ch_end3), len(chs))  \n",
    "#         display(all_chs)\n",
    "#         display(chs)\n",
    "#         display(ch_beg3)\n",
    "#         display(ch_end3)\n",
    "        plans.at[index, 'full_months_with_charging_info'] = len(chs)\n",
    "        plans.at[index, 'charged'] = chs['CHARGES'].sum()\n",
    "        plans.at[index, 'ch_beg3'] = ch_beg3['CHARGES'].mean() if len(ch_beg3) == periods else np.nan\n",
    "        plans.at[index, 'ch_end3'] = ch_end3['CHARGES'].mean() if len(ch_end3) == periods else np.nan\n",
    "\n",
    "calc_charges_per_plan(plans_with_charges, chs)\n",
    "plans_with_charges['mean_charged_per_month'] = plans_with_charges['charged'] / plans_with_charges['full_months_with_charging_info']\n",
    "\n",
    "with pd.option_context('display.max_rows', 5):\n",
    "    display(plans)\n",
    "    display(plans_with_charges)\n",
    "plans_with_charges.drop(columns=['START_DTTM', 'END_DTTM', 'no_plan_duration'], inplace=True)"
   ]
  },
  {
   "cell_type": "markdown",
   "metadata": {},
   "source": [
    "## Calculate change in mean bill before and after migration for each plan"
   ]
  },
  {
   "cell_type": "code",
   "execution_count": null,
   "metadata": {
    "scrolled": false
   },
   "outputs": [],
   "source": [
    "ps_with_chs = plans_with_charges.copy()\n",
    "\n",
    "ps_with_chs['prev_mean'] = pd.Series(index=ps_with_chs.index, dtype=ps_with_chs['mean_charged_per_month'].dtype)\n",
    "for row in ps_with_chs.itertuples():\n",
    "    i = row[0]\n",
    "    prew_plan_row = getattr(row, 'prev_plan_row')\n",
    "    if prew_plan_row not in ps_with_chs.index: continue\n",
    "    ps_with_chs.at[i, 'prev_mean'] = ps_with_chs.at[prew_plan_row, 'mean_charged_per_month']\n",
    "    ps_with_chs.at[i, 'prev_ch_end3'] = ps_with_chs.at[prew_plan_row, 'ch_end3']\n",
    "\n",
    "ps_with_chs['change3'] = ps_with_chs['ch_beg3'] / ps_with_chs['prev_ch_end3']\n",
    "change3 = ps_with_chs['change3'].copy()\n",
    "change3[(change3 == np.inf) | (change3 == -np.inf) | (change3 == 0)] = np.nan\n",
    "ps_with_chs['change3'] = change3\n",
    "\n",
    "ps_with_chs['was0'] = (ps_with_chs['prev_ch_end3'] == 0) & (ps_with_chs['ch_beg3'] > 0)\n",
    "ps_with_chs['bec0'] = (ps_with_chs['prev_ch_end3'] > 0) & (ps_with_chs['ch_beg3'] == 0)\n",
    "ps_with_chs['rem0'] = (ps_with_chs['prev_ch_end3'] == 0) & (ps_with_chs['ch_beg3'] == 0)\n",
    "# ps_with_chs = ps_with_chs[ps_with_chs['full_months_with_charging_info'] > 0]\n",
    "ps_with_chs_cols_to_drop = ['charged', 'full_months_with_charging_info', 'SUBSCRIBER_ID', 'prev_plan_row', 'SUBSCRIBER_ID', 'prev_plan_row']\n",
    "\n",
    "ps_with_chs.drop(columns=ps_with_chs_cols_to_drop, inplace=True)\n",
    "print('subscribers started to pay after change :) #:', ps_with_chs['was0'].sum())\n",
    "print('subscribers gave up paying after change :( #:', ps_with_chs['bec0'].sum())\n",
    "print('subscribers never payed :(( #:', ps_with_chs['rem0'].sum())\n",
    "with pd.option_context('display.max_rows', 10):\n",
    "    display(ps_with_chs)"
   ]
  },
  {
   "cell_type": "markdown",
   "metadata": {},
   "source": [
    "## Group by plan for no reason..."
   ]
  },
  {
   "cell_type": "code",
   "execution_count": null,
   "metadata": {
    "scrolled": true
   },
   "outputs": [],
   "source": [
    "charges_per_plan = ps_with_chs.groupby(by='TARIFF_PLAN_ID').mean()\n",
    "charges_per_plan.drop(columns=['prev_plan'], inplace=True)\n",
    "display(charges_per_plan)"
   ]
  },
  {
   "cell_type": "markdown",
   "metadata": {},
   "source": [
    "## Drop rows that we didn't have enough data to compute the change"
   ]
  },
  {
   "cell_type": "code",
   "execution_count": null,
   "metadata": {},
   "outputs": [],
   "source": [
    "ps_chs = ps_with_chs[(ps_with_chs['change3'] > 0)]\n",
    "display(ps_chs)"
   ]
  },
  {
   "cell_type": "markdown",
   "metadata": {},
   "source": [
    "## Find mean change in monthly bill for each migration direction"
   ]
  },
  {
   "cell_type": "code",
   "execution_count": null,
   "metadata": {
    "scrolled": false
   },
   "outputs": [],
   "source": [
    "charge_changes = ps_chs.pivot_table(index='prev_plan', columns='TARIFF_PLAN_ID', values='change3', aggfunc=np.mean)\n",
    "charge_changes.rename(columns=lambda col: 'to ' + str(col), inplace=True)\n",
    "charge_changes.rename(index=lambda row: 'from ' + str(row) if row != -1 else 'no plan', inplace=True)\n",
    "charge_changes_num_data = ps_with_chs.pivot_table(index='prev_plan', columns='TARIFF_PLAN_ID', values='change3', aggfunc=lambda s: (s > 0).sum())\n",
    "before_unpayers = ps_with_chs.pivot_table(index='prev_plan', columns='TARIFF_PLAN_ID', values='was0', aggfunc=np.sum)\n",
    "after_unpayers = ps_with_chs.pivot_table(index='prev_plan', columns='TARIFF_PLAN_ID', values='bec0', aggfunc=np.sum)\n",
    "with pd.option_context('display.max_rows', 10):\n",
    "    # display(charge_changes.style.background_gradient(cmap='summer'))\n",
    "    display(charge_changes)\n",
    "    print('charge_changes_num_data')\n",
    "    display(charge_changes_num_data)\n",
    "#     display(former_unpayers)\n",
    "#     display(after_unpayers)\n",
    "fig, ax = plt.subplots(figsize=(10,8))\n",
    "ax.set_title('\"mean 3 month bill after\" to \"mean 3 month bill before plan change\" ratio',\n",
    "             fontsize=14, fontweight=\"bold\")\n",
    "ax.xaxis.set_ticks_position('top')\n",
    "# labels = np.array([[v if v > 0 else 0 for v in row] for row in charge_changes_num_data.values[1:]])\n",
    "# print(labels)\n",
    "sns.heatmap(charge_changes, cmap='RdYlGn_r', linewidths=0.5, annot=True, ax=ax, \n",
    "#             xticklabels=['to ' + str(col) for col in charge_changes],\n",
    "#             yticklabels=['from ' + str(row) for row in charge_changes.index]\n",
    "           )"
   ]
  },
  {
   "cell_type": "markdown",
   "metadata": {},
   "source": [
    "## Slightly more beatiful heatmap\n",
    "Don't have much date for some cells.\n",
    "After transfering to plans 4 and 5 from plans 1 and 3 subscribers tend to pay less."
   ]
  },
  {
   "cell_type": "code",
   "execution_count": null,
   "metadata": {},
   "outputs": [],
   "source": [
    "fig, ax = plt.subplots(figsize=(10,8))\n",
    "im = ax.imshow(charge_changes.values, cmap='RdYlGn_r')\n",
    "\n",
    "ax.set_xticks(np.arange(len(charge_changes.columns)))\n",
    "ax.set_yticks(np.arange(len(charge_changes.index)))\n",
    "ax.set_xticklabels(charge_changes.columns)\n",
    "ax.set_yticklabels(charge_changes.index)\n",
    "ax.set_xticks(np.arange(charge_changes.values.shape[1]+1)-.5, minor=True)\n",
    "ax.set_yticks(np.arange(charge_changes.values.shape[0]+1)-.5, minor=True)\n",
    "ax.grid(which=\"minor\", color=\"w\", linestyle='-', linewidth=2)\n",
    "ax.xaxis.set_ticks_position('top')\n",
    "ax.set_title('ratio of \"mean 3 month bill after\" to \"mean 3 month bill before plan change\"',\n",
    "             fontsize=14, fontweight=\"bold\")\n",
    "\n",
    "# plt.setp(ax.get_xticklabels(), rotation=45, ha=\"right\", rotation_mode=\"anchor\")\n",
    "\n",
    "for i in range(len(charge_changes.index)):\n",
    "    for j in range(len(charge_changes.columns)):\n",
    "        text = ax.text(j, i, \n",
    "#                        '%.2f\\n%.f Subscribers' % (charge_changes.values[i, j], charge_changes_num_data.values[1:][i, j]) if not np.isnan(charge_changes.values[i, j]) else '',\n",
    "                       '\\n\\n\\n%.f Subscribers' % (charge_changes_num_data.values[1:][i, j]) if not np.isnan(charge_changes.values[i, j]) else '',\n",
    "                       ha=\"center\", va=\"center\", color=\"k\", fontsize=10)\n",
    "        text = ax.text(j, i, \n",
    "                       '%.2f' % (charge_changes.values[i, j]) if not np.isnan(charge_changes.values[i, j]) else '',\n",
    "                       ha=\"center\", va=\"center\", color=\"k\", fontsize=15)\n",
    "\n",
    "fig.tight_layout()\n",
    "plt.show()"
   ]
  },
  {
   "cell_type": "markdown",
   "metadata": {},
   "source": [
    "# III SUSPENSIONS"
   ]
  },
  {
   "cell_type": "markdown",
   "metadata": {},
   "source": [
    "## 1 Merge plan changes and suspensions data"
   ]
  },
  {
   "cell_type": "code",
   "execution_count": null,
   "metadata": {
    "scrolled": false
   },
   "outputs": [],
   "source": [
    "period_months = 3\n",
    "susps_min_start = suspensions['START_DT'].min()\n",
    "susps_max_end = suspensions['END_DT'].max()\n",
    "plans_max_end = ps['END_DTTM'].max()\n",
    "ps2 = ps.iloc[:].copy()\n",
    "ps2.loc[pd.isnull(ps2['END_DTTM']), 'END_DTTM'] = plans_max_end\n",
    "ps_we_have_suspensions_data = ps2[((ps2['END_DTTM'] + pd.DateOffset(months=period_months)) > susps_min_start) & ((ps2['START_DTTM'] - pd.DateOffset(months=period_months)) < susps_max_end)]\n",
    "plans_with_suspensions = pd.merge(ps_we_have_suspensions_data.iloc[:], suspensions.iloc[:], on=['SUBSCRIBER_ID'], how='left')\n",
    "plans_with_suspensions.drop(inplace=True, columns=['duration_x', 'duration_y', 'STATUS', 'no_plan_duration', 'prev_duration'])\n",
    "\n",
    "plans_with_suspensions['START_DTTM'] = plans_with_suspensions['START_DTTM'].dt.ceil('D')\n",
    "plans_with_suspensions['END_DTTM'] = plans_with_suspensions['END_DTTM'].dt.floor('D')\n",
    "\n",
    "print('period:', suspensions['START_DT'].min(), '..', suspensions['END_DT'].max())\n",
    "with pd.option_context('display.max_rows', 5):\n",
    "    display(ps2)\n",
    "    display(suspensions.iloc[:])\n",
    "    display(plans_with_suspensions)"
   ]
  },
  {
   "cell_type": "markdown",
   "metadata": {},
   "source": [
    "## 2 Calculate duration *of each suspension* during the first and last 3 months"
   ]
  },
  {
   "cell_type": "code",
   "execution_count": null,
   "metadata": {
    "scrolled": false
   },
   "outputs": [],
   "source": [
    "def calc_durs(plans_with_suspensions):\n",
    "    invalid_plans_with_susps = plans_with_suspensions[(plans_with_suspensions['START_DTTM'] > plans_with_suspensions['END_DT']) | (plans_with_suspensions['END_DTTM'] < plans_with_suspensions['START_DT'])]\n",
    "    p = plans_with_suspensions.iloc[:].copy()\n",
    "#     p = p.drop(index=invalid_plans_with_susps.index)\n",
    "    p = p[(p['START_DTTM'] + pd.DateOffset(months=period_months)) < p['END_DTTM']]\n",
    "#     cross_plan_suspensions = p[(p['START_DTTM'] > p['START_DT']) | (p['END_DTTM'] < p['END_DT'])]\n",
    "#     print('cross plan suspensions #:', len(cross_plan_suspensions))\n",
    "    p['beg_end'] = p['START_DTTM'] + pd.DateOffset(months=period_months)\n",
    "    p['end_start'] = p['END_DTTM'] - pd.DateOffset(months=period_months)\n",
    "    p.loc[pd.isnull(p['END_DT']), 'END_DT'] = p['END_DTTM']\n",
    "    p.loc[pd.isnull(p['START_DT']), 'START_DT'] = p['END_DTTM'] + pd.Timedelta(10, 'D')\n",
    "    p['s_days_beg'] = (p[['END_DT', 'beg_end']].min(axis=1) - p[['START_DT', 'START_DTTM']].max(axis=1) + pd.Timedelta(1, 'D')).dt.days.clip(0, np.inf)\n",
    "    p['s_days_end'] = (p[['END_DT', 'END_DTTM']].min(axis=1) - p[['START_DT', 'end_start']].max(axis=1) + pd.Timedelta(1, 'D')).dt.days.clip(0, np.inf)\n",
    "    p.loc[np.isnan(p['s_days_beg']), 's_days_beg'] = 0\n",
    "    p.loc[np.isnan(p['s_days_end']), 's_days_end'] = 0\n",
    "    p['s_num_beg'] = p['s_days_beg'] > 0\n",
    "    p['s_num_end'] = p['s_days_end'] > 0\n",
    "#     print(p[['END_DT', 'beg_end']].min(axis=1).iloc[4:7])\n",
    "#     print(p['START_DT'].iloc[4:7])\n",
    "#     print((p[['END_DT', 'beg_end']].min(axis=1) - p['START_DT']).iloc[4:7])\n",
    "    return p\n",
    "\n",
    "plans_with_susps = calc_durs(plans_with_suspensions)\n",
    "with pd.option_context('display.max_rows', 10):\n",
    "    display(plans_with_susps.describe())\n",
    "    display(plans_with_susps)\n",
    "#     print((plans_with_susps['END_DT'] - plans_with_susps['START_DT']).iloc[4:7])"
   ]
  },
  {
   "cell_type": "markdown",
   "metadata": {},
   "source": [
    "## 3 calculate suspensions' durations and number of suspensions *per plan*"
   ]
  },
  {
   "cell_type": "code",
   "execution_count": null,
   "metadata": {
    "scrolled": false
   },
   "outputs": [],
   "source": [
    "ps_with_susps = plans_with_susps.sort_values(by=['SUBSCRIBER_ID', 'TARIFF_PLAN_ID', 'START_DTTM'])\n",
    "ps_with_susps = ps_with_susps.drop(columns=['START_DTTM', 'END_DTTM'])\n",
    "\n",
    "ps_with_susps = ps_with_susps.groupby(by=['SUBSCRIBER_ID', 'TARIFF_PLAN_ID', 'prev_plan_row', 'prev_plan']).agg({\n",
    "    's_days_beg': np.sum,\n",
    "    's_days_end': np.sum,\n",
    "    's_num_beg': np.sum,\n",
    "    's_num_end': np.sum\n",
    "})\n",
    "ps_with_susps = ps_with_susps.reset_index(level=['SUBSCRIBER_ID', 'TARIFF_PLAN_ID', 'prev_plan_row', 'prev_plan'])\n",
    "ps_with_susps = ps_with_susps.sort_values(by=['SUBSCRIBER_ID', 'prev_plan_row'])\n",
    "ps_with_susps = ps_with_susps.drop(columns='prev_plan_row')\n",
    "\n",
    "with pd.option_context('display.max_rows', 5):\n",
    "    display(ps_with_susps)\n",
    "    display(ps_with_susps[ps_with_susps['SUBSCRIBER_ID'] == 5919])"
   ]
  },
  {
   "cell_type": "markdown",
   "metadata": {},
   "source": [
    "## 4 Add data about suspensions on the previous plan to each row\n",
    "drop rows that don't have prev plan"
   ]
  },
  {
   "cell_type": "code",
   "execution_count": null,
   "metadata": {
    "scrolled": false
   },
   "outputs": [],
   "source": [
    "ps_susps = ps_with_susps.iloc[:].copy()\n",
    "ps_susps = ps_susps.reset_index(drop=True)\n",
    "ps_susps_shifted = pd.concat([ps_susps.iloc[-1:], ps_susps.iloc[0:-1]])\n",
    "ps_susps_shifted = ps_susps_shifted.drop(columns=['TARIFF_PLAN_ID', 'prev_plan', 's_num_beg', 's_days_beg'])\n",
    "ps_susps_shifted = ps_susps_shifted.rename(columns=lambda col: 'prev_' + col)\n",
    "ps_susps_shifted = ps_susps_shifted.reset_index(drop=True)\n",
    "ps_ss = pd.concat([ps_susps, ps_susps_shifted], axis=1)\n",
    "\n",
    "nanify_cols = ['prev_s_days_end', 'prev_s_num_end']\n",
    "ps_ss.loc[(ps_ss['prev_SUBSCRIBER_ID'] != ps_ss['SUBSCRIBER_ID']), nanify_cols] = np.nan\n",
    "ps_ss = ps_ss.drop(columns=['prev_SUBSCRIBER_ID', 's_days_end', 's_num_end'])\n",
    "ps_ss['s_num_change'] = ps_ss['s_num_beg'] / ps_ss['prev_s_num_end']\n",
    "ps_ss['s_days_change'] = ps_ss['s_days_beg'] / ps_ss['prev_s_days_end']\n",
    "\n",
    "ps_ss.loc[ps_ss['s_num_change'] == inf, 's_num_change'] = np.nan\n",
    "ps_ss.loc[ps_ss['s_days_change'] == inf, 's_days_change'] = np.nan\n",
    "ps_ss['s_days_diff'] = ps_ss['s_days_beg'] - ps_ss['prev_s_days_end']\n",
    "ps_ss = ps_ss[~np.isnan(ps_ss['prev_s_days_end'])]\n",
    "\n",
    "\n",
    "with pd.option_context('display.max_rows', 10):\n",
    "#     print(np.isnan(ps_ss['prev_s_days_end']).sum())\n",
    "#     display(ps_ss.describe())\n",
    "#     display(ps_susps)    \n",
    "#     display(ps_susps_shifted)\n",
    "    display(ps_ss)\n",
    "    display(ps_ss[(ps_ss['prev_plan'] == -1) & (ps_ss['prev_s_days_end'] > 0)])\n",
    "#     display(ps_ss[ps_ss['prev_plan']])"
   ]
  },
  {
   "cell_type": "markdown",
   "metadata": {},
   "source": [
    "## 5 Summarize data for each plan pair"
   ]
  },
  {
   "cell_type": "code",
   "execution_count": null,
   "metadata": {},
   "outputs": [],
   "source": [
    "susps_days = ps_ss.pivot_table(index='prev_plan', columns='TARIFF_PLAN_ID', values=['prev_s_days_end', 's_days_beg', 's_days_diff'])\n",
    "# susps_days_diff = susps_days['s_days_beg'] - susps_days['prev_s_days_end']\n",
    "susps_days_diff = susps_days['s_days_diff']\n",
    "susps_days_num_data = ps_ss.pivot_table(index='prev_plan', columns='TARIFF_PLAN_ID', values=['prev_s_days_end', 's_days_beg'], aggfunc=lambda s: s.count())\n",
    "susps_num = ps_ss.pivot_table(index='prev_plan', columns='TARIFF_PLAN_ID', values=['prev_s_num_end', 's_num_beg'])\n",
    "susps_num_diff = susps_num['s_num_beg'] - susps_num['prev_s_num_end']\n",
    "susps_num_changes = ps_ss.pivot_table(index='prev_plan', columns='TARIFF_PLAN_ID', values='s_num_change')\n",
    "susps_num_changes_num_data = ps_ss.pivot_table(index='prev_plan', columns='TARIFF_PLAN_ID', values='s_num_change', aggfunc=lambda s: s.count())\n",
    "\n",
    "with pd.option_context('display.max_rows', 10): \n",
    "    display(susps_days)\n",
    "    display(susps_days_diff)\n",
    "    display(susps_num)\n",
    "    display(susps_num_diff)\n",
    "    \n",
    "    print('datapoints number:')\n",
    "    display(susps_days_num_data)\n",
    "\n",
    "#     print('suspensions number change:')\n",
    "#     display(susps_num_changes)\n",
    "#     print('suspensions number change datapoints:')\n",
    "#     display(susps_num_changes_num_data)"
   ]
  },
  {
   "cell_type": "markdown",
   "metadata": {},
   "source": [
    "## 6 Draw plots"
   ]
  },
  {
   "cell_type": "code",
   "execution_count": null,
   "metadata": {},
   "outputs": [],
   "source": [
    "fig, ax = plt.subplots(figsize=(10,8))\n",
    "im = ax.imshow(susps_days_diff.values, cmap='RdYlGn_r')\n",
    "\n",
    "ax.set_xticks(np.arange(len(susps_days_diff.columns)))\n",
    "ax.set_yticks(np.arange(len(susps_days_diff.index)))\n",
    "ax.set_xticklabels(susps_days_diff.columns)\n",
    "ax.set_yticklabels(susps_days_diff.index)\n",
    "ax.set_xticks(np.arange(susps_days_diff.values.shape[1]+1)-.5, minor=True)\n",
    "ax.set_yticks(np.arange(susps_days_diff.values.shape[0]+1)-.5, minor=True)\n",
    "ax.grid(which=\"minor\", color=\"w\", linestyle='-', linewidth=2)\n",
    "ax.xaxis.set_ticks_position('top')\n",
    "ax.set_title('days suspended during 3 months before and after plan change',\n",
    "             fontsize=14, fontweight=\"bold\")\n",
    "\n",
    "# plt.setp(ax.get_xticklabels(), rotation=45, ha=\"right\", rotation_mode=\"anchor\")\n",
    "\n",
    "for i in range(len(susps_days_diff.index)):\n",
    "    for j in range(len(susps_days_diff.columns)):\n",
    "        text = ax.text(j, i, \n",
    "                       '%+.2f\\n\\n\\n' % susps_days['s_days_diff'].values[i, j] if not np.isnan(susps_days.values[i, j]) else '',\n",
    "                       ha=\"center\", va=\"center\", color=\"k\", fontsize=10)\n",
    "        text = ax.text(j, i, \n",
    "#                        '%.2f\\n%.f Subscribers' % (charge_changes.values[i, j], charge_changes_num_data.values[1:][i, j]) if not np.isnan(charge_changes.values[i, j]) else '',\n",
    "                       '\\n\\n\\n%.f Subscr-s' % max(susps_days_num_data['prev_s_days_end'].values[i, j], susps_days_num_data['s_days_beg'].values[i, j]) if not np.isnan(susps_days_num_data.values[i, j]) else '',\n",
    "                       ha=\"center\", va=\"center\", color=\"k\", fontsize=10)\n",
    "        text = ax.text(j, i, \n",
    "                       '%.f → %.f' % (susps_days['prev_s_days_end'].values[i, j], susps_days['s_days_beg'].values[i, j]) if not np.isnan(susps_days_num_data.values[i, j]) else '',\n",
    "                       ha=\"center\", va=\"center\", color=\"k\", fontsize=15)\n",
    "\n",
    "fig.tight_layout()\n",
    "plt.show()"
   ]
  },
  {
   "cell_type": "markdown",
   "metadata": {},
   "source": [
    "The value on top of the cell is the averaged difference between numbers of days suspended before and after **per same user**.\n",
    "The values in the middle of the cell is the change of average suspension duration before and after.\n",
    "\n",
    "Some debugging below..."
   ]
  },
  {
   "cell_type": "code",
   "execution_count": null,
   "metadata": {
    "scrolled": false
   },
   "outputs": [],
   "source": [
    "ps_ss53 = ps_ss[(ps_ss['prev_plan'] == 5) & (ps_ss['TARIFF_PLAN_ID'] == 3)].copy()\n",
    "ps_ss53 = ps_ss53.drop(columns=['s_num_change', 's_days_change'])\n",
    "with pd.option_context('display.max_rows', 5):\n",
    "    display(ps_ss53)\n",
    "    display(ps_ss53.describe())"
   ]
  },
  {
   "cell_type": "code",
   "execution_count": null,
   "metadata": {},
   "outputs": [],
   "source": [
    "fig, ax = plt.subplots(figsize=(10,8))\n",
    "im = ax.imshow(susps_num_diff.values, cmap='RdYlGn_r')\n",
    "\n",
    "ax.set_xticks(np.arange(len(susps_num_diff.columns)))\n",
    "ax.set_yticks(np.arange(len(susps_num_diff.index)))\n",
    "ax.set_xticklabels(susps_num_diff.columns)\n",
    "ax.set_yticklabels(susps_num_diff.index)\n",
    "ax.set_xticks(np.arange(susps_num_diff.values.shape[1]+1)-.5, minor=True)\n",
    "ax.set_yticks(np.arange(susps_num_diff.values.shape[0]+1)-.5, minor=True)\n",
    "ax.grid(which=\"minor\", color=\"w\", linestyle='-', linewidth=2)\n",
    "ax.xaxis.set_ticks_position('top')\n",
    "ax.set_title('number of suspensions during 3 months before and after plan change',\n",
    "             fontsize=14, fontweight=\"bold\")\n",
    "\n",
    "# plt.setp(ax.get_xticklabels(), rotation=45, ha=\"right\", rotation_mode=\"anchor\")\n",
    "\n",
    "for i in range(len(susps_num_diff.index)):\n",
    "    for j in range(len(susps_num_diff.columns)):\n",
    "        text = ax.text(j, i, \n",
    "#                        '%.2f\\n%.f Subscribers' % (charge_changes.values[i, j], charge_changes_num_data.values[1:][i, j]) if not np.isnan(charge_changes.values[i, j]) else '',\n",
    "                       '\\n\\n\\n%.f Subscr-s' % max(susps_days_num_data['prev_s_days_end'].values[i, j], susps_days_num_data['s_days_beg'].values[i, j]) if not np.isnan(susps_days_num_data.values[i, j]) else '',\n",
    "                       ha=\"center\", va=\"center\", color=\"k\", fontsize=10)\n",
    "        text = ax.text(j, i, \n",
    "                       '%.2f → %.2f' % (susps_num['prev_s_num_end'].values[i, j], susps_num['s_num_beg'].values[i, j]) if not np.isnan(susps_days_num_data.values[i, j]) else '',\n",
    "                       ha=\"center\", va=\"center\", color=\"k\", fontsize=13)\n",
    "\n",
    "fig.tight_layout()\n",
    "plt.show()"
   ]
  }
 ],
 "metadata": {
  "kernelspec": {
   "display_name": "Python 3",
   "language": "python",
   "name": "python3"
  },
  "language_info": {
   "codemirror_mode": {
    "name": "ipython",
    "version": 3
   },
   "file_extension": ".py",
   "mimetype": "text/x-python",
   "name": "python",
   "nbconvert_exporter": "python",
   "pygments_lexer": "ipython3",
   "version": "3.6.5"
  }
 },
 "nbformat": 4,
 "nbformat_minor": 2
}
